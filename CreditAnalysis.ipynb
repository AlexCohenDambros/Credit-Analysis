{
  "nbformat": 4,
  "nbformat_minor": 0,
  "metadata": {
    "colab": {
      "name": "CreditAnalysis.ipynb",
      "provenance": [],
      "collapsed_sections": []
    },
    "kernelspec": {
      "name": "python3",
      "display_name": "Python 3"
    },
    "language_info": {
      "name": "python"
    }
  },
  "cells": [
    {
      "cell_type": "code",
      "execution_count": null,
      "metadata": {
        "id": "ikXDGmD41NPD"
      },
      "outputs": [],
      "source": [
        "import pandas as pd\n",
        "import numpy as np \n",
        "import os\n",
        "pd.set_option('display.max_rows', None)"
      ]
    },
    {
      "cell_type": "code",
      "source": [
        "if not os.path.isfile('train.csv'):\n",
        "    !wget https://www.dropbox.com/s/wxz0qd1ngjb1z2d/train.csv\n",
        "\n",
        "if not os.path.isfile('test.csv'):\n",
        "    !wget https://www.dropbox.com/s/0kzeu3azlpfn2v3/test.csv"
      ],
      "metadata": {
        "id": "DCpWJ8cw1SML"
      },
      "execution_count": null,
      "outputs": []
    },
    {
      "cell_type": "code",
      "source": [
        "train = pd.read_csv(\"train.csv\")\n",
        "test = pd.read_csv(\"test.csv\")"
      ],
      "metadata": {
        "id": "DsDXWgyW1STd"
      },
      "execution_count": null,
      "outputs": []
    },
    {
      "cell_type": "code",
      "source": [
        "train.drop(['HS_CPF', 'ORIENTACAO_SEXUAL', 'RELIGIAO'], axis = 1, inplace = True)\n",
        "test.drop(['HS_CPF', 'ORIENTACAO_SEXUAL', 'RELIGIAO'], axis = 1, inplace = True)"
      ],
      "metadata": {
        "id": "NxfTdgSX4gSK"
      },
      "execution_count": null,
      "outputs": []
    },
    {
      "cell_type": "code",
      "source": [
        "train.info()"
      ],
      "metadata": {
        "id": "XChOYiFi3dyX"
      },
      "execution_count": null,
      "outputs": []
    },
    {
      "cell_type": "code",
      "source": [
        "test.info()"
      ],
      "metadata": {
        "id": "8btAhKvv3pmP"
      },
      "execution_count": null,
      "outputs": []
    },
    {
      "cell_type": "code",
      "source": [
        "train.head(5)"
      ],
      "metadata": {
        "id": "Br2qPGq21SVd"
      },
      "execution_count": null,
      "outputs": []
    },
    {
      "cell_type": "code",
      "source": [
        "test.head(5)"
      ],
      "metadata": {
        "id": "ZMn67pRA1SYC"
      },
      "execution_count": null,
      "outputs": []
    },
    {
      "cell_type": "code",
      "source": [
        "# Transforma os valores -inf para NaN\n",
        "\n",
        "train[train < 0] = np.nan"
      ],
      "metadata": {
        "id": "s0XUu-Hk1SaD"
      },
      "execution_count": null,
      "outputs": []
    },
    {
      "cell_type": "code",
      "source": [
        "# Porcentagem de valores nulos nas colunas.\n",
        "\n",
        "train.isna().sum() / len(train)"
      ],
      "metadata": {
        "id": "PNhXLmf91Sci"
      },
      "execution_count": null,
      "outputs": []
    },
    {
      "cell_type": "code",
      "source": [
        "# Menor e maior valor de cada coluna / % de valores nulos / Correlação das colunas com o Target\n",
        "target = train[\"TARGET\"]\n",
        "\n",
        "data = {\n",
        "    \"names\":[],\n",
        "    \"min\": [],\n",
        "    \"max\": [],\n",
        "    \"%null\": [],\n",
        "    \"correlation\": [],\n",
        "}\n",
        "for (columnName, columnData) in train.iteritems():\n",
        "    data['names'].append(columnName)\n",
        "    values = list(filter(lambda a: not np.isnan(a) ,columnData))\n",
        "    nanvalues = len(list(filter(np.isnan ,columnData)))\n",
        "    data['min'].append(min(values) if len(values) > 0 else np.nan)\n",
        "    data['max'].append(max(values) if len(values) > 0 else np.nan)\n",
        "    data['%null'].append(nanvalues/len(columnData))\n",
        "    data[\"correlation\"].append(abs(round(train[columnName].corr(target)*100,2)))\n",
        "\n",
        "infoColumns = pd.DataFrame.from_dict(data)\n",
        "\n",
        "infoColumns.to_csv(\"infoColumns.csv\", index = False)"
      ],
      "metadata": {
        "id": "l-tKr-Ux1Seq"
      },
      "execution_count": null,
      "outputs": []
    }
  ]
}